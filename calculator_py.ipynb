{
  "nbformat": 4,
  "nbformat_minor": 0,
  "metadata": {
    "colab": {
      "provenance": []
    },
    "kernelspec": {
      "name": "python3",
      "display_name": "Python 3"
    },
    "language_info": {
      "name": "python"
    }
  },
  "cells": [
    {
      "cell_type": "code",
      "execution_count": null,
      "metadata": {
        "id": "9s2H_zwP6E94"
      },
      "outputs": [],
      "source": [
        "def add(x, y):\n",
        "    return x + y\n",
        "\n",
        "\n",
        "def subtract(x, y):\n",
        "    return x - y\n",
        "\n",
        "\n",
        "def divide(x, y):\n",
        "    if y != 0:\n",
        "      return x / y\n",
        "    else:\n",
        "      return \"Invalid value for denominator, cant't divide by 0!\"\n",
        "\n",
        "def multiply(x, y):\n",
        "    return x * y\n",
        "\n",
        "\n",
        "def square(x):\n",
        "    return x * x\n",
        "\n",
        "\n",
        "def power(x, y):\n",
        "    return x ** y\n",
        "\n",
        "\n",
        "def sqrt(x):\n",
        "    return x ** 0.5"
      ]
    }
  ]
}